{
 "cells": [
  {
   "cell_type": "code",
   "execution_count": 1,
   "id": "e77353f8-d77b-41f1-b61c-e75bd330d42f",
   "metadata": {},
   "outputs": [],
   "source": [
    "import requests\n",
    "import pandas as pd\n",
    "import matplotlib.pyplot as plt\n",
    "import sqlite3"
   ]
  },
  {
   "cell_type": "markdown",
   "id": "8c824eaf-d879-495f-99d0-5b0aaa6b18e4",
   "metadata": {},
   "source": [
    "# **1. Obtención de Datos (10 puntos)**"
   ]
  },
  {
   "cell_type": "markdown",
   "id": "286ce3ab-6bf2-4655-bdb4-410e6deceb06",
   "metadata": {},
   "source": [
    "\n",
    "* Se solicita información de precios de energía mediante una API entre las fechas 2024-03-15 y 2024-04-14.\n",
    "* La solicitud debe incluir los parámetros start_date y end_date para especificar el rango de fechas.\n",
    "  Puntos adicionales: Manejo de errores HTTP\n"
   ]
  },
  {
   "cell_type": "code",
   "execution_count": 2,
   "id": "41cb2bd8-e31c-4e69-bb97-c943e2c42abc",
   "metadata": {},
   "outputs": [],
   "source": [
    " api_url = \"https://l2h237eh53.execute-api.us-east-1.amazonaws.com/dev/precios\""
   ]
  },
  {
   "cell_type": "code",
   "execution_count": 3,
   "id": "5a7ddfe1-02df-4833-a2af-a3f59ee925d6",
   "metadata": {},
   "outputs": [],
   "source": [
    " def connect_to_api(start_date='2024-03-15', end_date='2024-04-14'):\n",
    "    params = {'start_date': start_date,\n",
    "              'end_date' : end_date}\n",
    "    \n",
    "    try:\n",
    "        response = requests.get(api_url, params=params)\n",
    "\n",
    "        \n",
    "        if response.status_code == 200:\n",
    "            data = response.json()\n",
    "            data = data['data']\n",
    "            data = pd.DataFrame(data)\n",
    "            return data\n",
    "        else:\n",
    "            print(f\"Error: connect to API {response.status_code}. {response.text}\")\n",
    "            return None\n",
    "            \n",
    "    except requests.exceptions.Timeout:\n",
    "        print(\"Error: Timeout  trying to connect to the API.\")\n",
    "        \n",
    "    except requests.exceptions.RequestException as e:\n",
    "        print(f\"Connection error: {e}\")\n",
    "\n",
    "    return None\n",
    "\n",
    "\n",
    "df = connect_to_api()"
   ]
  },
  {
   "cell_type": "code",
   "execution_count": 4,
   "id": "bfea86b8-844a-4235-96da-e05e8010fbc9",
   "metadata": {},
   "outputs": [
    {
     "data": {
      "text/html": [
       "<div>\n",
       "<style scoped>\n",
       "    .dataframe tbody tr th:only-of-type {\n",
       "        vertical-align: middle;\n",
       "    }\n",
       "\n",
       "    .dataframe tbody tr th {\n",
       "        vertical-align: top;\n",
       "    }\n",
       "\n",
       "    .dataframe thead th {\n",
       "        text-align: right;\n",
       "    }\n",
       "</style>\n",
       "<table border=\"1\" class=\"dataframe\">\n",
       "  <thead>\n",
       "    <tr style=\"text-align: right;\">\n",
       "      <th></th>\n",
       "      <th>2024-03-15</th>\n",
       "      <th>2024-03-16</th>\n",
       "      <th>2024-03-17</th>\n",
       "      <th>2024-03-19</th>\n",
       "      <th>2024-03-20</th>\n",
       "      <th>2024-03-21</th>\n",
       "      <th>2024-03-22</th>\n",
       "      <th>2024-03-23</th>\n",
       "      <th>2024-03-24</th>\n",
       "      <th>2024-03-25</th>\n",
       "      <th>...</th>\n",
       "      <th>2024-04-05</th>\n",
       "      <th>2024-04-06</th>\n",
       "      <th>2024-04-07</th>\n",
       "      <th>2024-04-08</th>\n",
       "      <th>2024-04-09</th>\n",
       "      <th>2024-04-10</th>\n",
       "      <th>2024-04-11</th>\n",
       "      <th>2024-04-12</th>\n",
       "      <th>2024-04-13</th>\n",
       "      <th>2024-04-14</th>\n",
       "    </tr>\n",
       "  </thead>\n",
       "  <tbody>\n",
       "    <tr>\n",
       "      <th>01:00</th>\n",
       "      <td>551.70</td>\n",
       "      <td>568.32</td>\n",
       "      <td>589.99</td>\n",
       "      <td>595.36</td>\n",
       "      <td>641.97</td>\n",
       "      <td>658.67</td>\n",
       "      <td>713.51</td>\n",
       "      <td>773.68</td>\n",
       "      <td>729.05</td>\n",
       "      <td>787.54</td>\n",
       "      <td>...</td>\n",
       "      <td>836.12</td>\n",
       "      <td>503.36</td>\n",
       "      <td>700.74</td>\n",
       "      <td>830.40</td>\n",
       "      <td>1010.43</td>\n",
       "      <td>967.38</td>\n",
       "      <td>1005.79</td>\n",
       "      <td>1020.02</td>\n",
       "      <td>1020.02</td>\n",
       "      <td>1056.17</td>\n",
       "    </tr>\n",
       "    <tr>\n",
       "      <th>02:00</th>\n",
       "      <td>551.70</td>\n",
       "      <td>568.32</td>\n",
       "      <td>568.49</td>\n",
       "      <td>574.36</td>\n",
       "      <td>630.77</td>\n",
       "      <td>658.67</td>\n",
       "      <td>708.51</td>\n",
       "      <td>718.87</td>\n",
       "      <td>729.05</td>\n",
       "      <td>758.54</td>\n",
       "      <td>...</td>\n",
       "      <td>759.37</td>\n",
       "      <td>502.36</td>\n",
       "      <td>671.24</td>\n",
       "      <td>750.51</td>\n",
       "      <td>905.54</td>\n",
       "      <td>967.38</td>\n",
       "      <td>1005.79</td>\n",
       "      <td>1010.02</td>\n",
       "      <td>1008.02</td>\n",
       "      <td>1055.62</td>\n",
       "    </tr>\n",
       "    <tr>\n",
       "      <th>03:00</th>\n",
       "      <td>551.70</td>\n",
       "      <td>568.32</td>\n",
       "      <td>568.49</td>\n",
       "      <td>574.36</td>\n",
       "      <td>571.77</td>\n",
       "      <td>641.79</td>\n",
       "      <td>696.51</td>\n",
       "      <td>718.87</td>\n",
       "      <td>717.16</td>\n",
       "      <td>719.54</td>\n",
       "      <td>...</td>\n",
       "      <td>502.12</td>\n",
       "      <td>501.36</td>\n",
       "      <td>610.74</td>\n",
       "      <td>750.51</td>\n",
       "      <td>905.54</td>\n",
       "      <td>504.97</td>\n",
       "      <td>1005.79</td>\n",
       "      <td>1010.02</td>\n",
       "      <td>995.02</td>\n",
       "      <td>1055.62</td>\n",
       "    </tr>\n",
       "    <tr>\n",
       "      <th>04:00</th>\n",
       "      <td>497.36</td>\n",
       "      <td>566.12</td>\n",
       "      <td>568.49</td>\n",
       "      <td>574.36</td>\n",
       "      <td>550.77</td>\n",
       "      <td>641.79</td>\n",
       "      <td>696.51</td>\n",
       "      <td>718.87</td>\n",
       "      <td>716.96</td>\n",
       "      <td>719.54</td>\n",
       "      <td>...</td>\n",
       "      <td>502.12</td>\n",
       "      <td>501.36</td>\n",
       "      <td>605.74</td>\n",
       "      <td>750.51</td>\n",
       "      <td>905.54</td>\n",
       "      <td>504.97</td>\n",
       "      <td>1005.79</td>\n",
       "      <td>1010.02</td>\n",
       "      <td>995.02</td>\n",
       "      <td>1055.62</td>\n",
       "    </tr>\n",
       "    <tr>\n",
       "      <th>05:00</th>\n",
       "      <td>551.70</td>\n",
       "      <td>566.12</td>\n",
       "      <td>568.49</td>\n",
       "      <td>574.36</td>\n",
       "      <td>550.77</td>\n",
       "      <td>641.79</td>\n",
       "      <td>708.51</td>\n",
       "      <td>718.87</td>\n",
       "      <td>700.96</td>\n",
       "      <td>658.54</td>\n",
       "      <td>...</td>\n",
       "      <td>759.37</td>\n",
       "      <td>501.36</td>\n",
       "      <td>605.74</td>\n",
       "      <td>750.51</td>\n",
       "      <td>905.54</td>\n",
       "      <td>966.97</td>\n",
       "      <td>1005.79</td>\n",
       "      <td>1010.02</td>\n",
       "      <td>995.02</td>\n",
       "      <td>1010.12</td>\n",
       "    </tr>\n",
       "  </tbody>\n",
       "</table>\n",
       "<p>5 rows × 30 columns</p>\n",
       "</div>"
      ],
      "text/plain": [
       "       2024-03-15  2024-03-16  2024-03-17  2024-03-19  2024-03-20  2024-03-21  \\\n",
       "01:00      551.70      568.32      589.99      595.36      641.97      658.67   \n",
       "02:00      551.70      568.32      568.49      574.36      630.77      658.67   \n",
       "03:00      551.70      568.32      568.49      574.36      571.77      641.79   \n",
       "04:00      497.36      566.12      568.49      574.36      550.77      641.79   \n",
       "05:00      551.70      566.12      568.49      574.36      550.77      641.79   \n",
       "\n",
       "       2024-03-22  2024-03-23  2024-03-24  2024-03-25  ...  2024-04-05  \\\n",
       "01:00      713.51      773.68      729.05      787.54  ...      836.12   \n",
       "02:00      708.51      718.87      729.05      758.54  ...      759.37   \n",
       "03:00      696.51      718.87      717.16      719.54  ...      502.12   \n",
       "04:00      696.51      718.87      716.96      719.54  ...      502.12   \n",
       "05:00      708.51      718.87      700.96      658.54  ...      759.37   \n",
       "\n",
       "       2024-04-06  2024-04-07  2024-04-08  2024-04-09  2024-04-10  2024-04-11  \\\n",
       "01:00      503.36      700.74      830.40     1010.43      967.38     1005.79   \n",
       "02:00      502.36      671.24      750.51      905.54      967.38     1005.79   \n",
       "03:00      501.36      610.74      750.51      905.54      504.97     1005.79   \n",
       "04:00      501.36      605.74      750.51      905.54      504.97     1005.79   \n",
       "05:00      501.36      605.74      750.51      905.54      966.97     1005.79   \n",
       "\n",
       "       2024-04-12  2024-04-13  2024-04-14  \n",
       "01:00     1020.02     1020.02     1056.17  \n",
       "02:00     1010.02     1008.02     1055.62  \n",
       "03:00     1010.02      995.02     1055.62  \n",
       "04:00     1010.02      995.02     1055.62  \n",
       "05:00     1010.02      995.02     1010.12  \n",
       "\n",
       "[5 rows x 30 columns]"
      ]
     },
     "execution_count": 4,
     "metadata": {},
     "output_type": "execute_result"
    }
   ],
   "source": [
    "df.head()"
   ]
  },
  {
   "cell_type": "markdown",
   "id": "e94e4b06-6240-40fe-ab31-60e95c7e649f",
   "metadata": {},
   "source": [
    "* ¿Cuántos días se obtienen de datos?"
   ]
  },
  {
   "cell_type": "markdown",
   "id": "78cc6e00-fb63-4c88-83f3-0ccba59e5ae7",
   "metadata": {},
   "source": [
    "Se obtienen 30 datos históricos."
   ]
  },
  {
   "cell_type": "code",
   "execution_count": 5,
   "id": "4f48455e-ab46-413e-848a-00e6754b8e98",
   "metadata": {},
   "outputs": [
    {
     "data": {
      "text/plain": [
       "(24, 30)"
      ]
     },
     "execution_count": 5,
     "metadata": {},
     "output_type": "execute_result"
    }
   ],
   "source": [
    "df.shape"
   ]
  },
  {
   "cell_type": "markdown",
   "id": "05d60332-da5f-4c6d-ae80-63725c925cab",
   "metadata": {},
   "source": [
    "# **Procesamiento de los Datos (20 puntos)**"
   ]
  },
  {
   "cell_type": "markdown",
   "id": "6c18b7fb-5019-44d2-a7a1-169275c2ab93",
   "metadata": {},
   "source": [
    "* Los datos se transforman a un DataFrame de Pandas para su posterior análisis.\n",
    "* Normalización de formato temporal\n"
   ]
  },
  {
   "cell_type": "code",
   "execution_count": 6,
   "id": "b8ece9cc-e45d-4a00-9dd4-9b165075550c",
   "metadata": {},
   "outputs": [],
   "source": [
    "df = df.reset_index()\n",
    "df = df.rename(columns={'index': 'hora'})\n",
    "df = pd.melt(df, id_vars=['hora'], var_name='fecha', value_name='precio')"
   ]
  },
  {
   "cell_type": "markdown",
   "id": "3fa3e649-1200-4414-aba5-2fb7b1805761",
   "metadata": {},
   "source": [
    "* Se deben manejar las fechas y horas correctamente, considerando que algunos valores de hora puedan estar mal formateados (por ejemplo, 24:00 en lugar de 00:00). hint: utilizar str.replace & pd.to_datetime"
   ]
  },
  {
   "cell_type": "code",
   "execution_count": 7,
   "id": "fb0e7908-626b-4d04-89f8-a56566e4327a",
   "metadata": {},
   "outputs": [],
   "source": [
    "df.hora = df.hora.str.replace('24', '00', regex=True)\n",
    "df.hora = pd.to_datetime(df.hora, format='%H:%M').dt.strftime(\"%H:%M\")"
   ]
  },
  {
   "cell_type": "code",
   "execution_count": 8,
   "id": "1aba482c-9d48-4961-9ae6-3b9428cb00a7",
   "metadata": {},
   "outputs": [
    {
     "data": {
      "text/html": [
       "<div>\n",
       "<style scoped>\n",
       "    .dataframe tbody tr th:only-of-type {\n",
       "        vertical-align: middle;\n",
       "    }\n",
       "\n",
       "    .dataframe tbody tr th {\n",
       "        vertical-align: top;\n",
       "    }\n",
       "\n",
       "    .dataframe thead th {\n",
       "        text-align: right;\n",
       "    }\n",
       "</style>\n",
       "<table border=\"1\" class=\"dataframe\">\n",
       "  <thead>\n",
       "    <tr style=\"text-align: right;\">\n",
       "      <th></th>\n",
       "      <th>hora</th>\n",
       "      <th>fecha</th>\n",
       "      <th>precio</th>\n",
       "    </tr>\n",
       "  </thead>\n",
       "  <tbody>\n",
       "    <tr>\n",
       "      <th>0</th>\n",
       "      <td>01:00</td>\n",
       "      <td>2024-03-15</td>\n",
       "      <td>551.70</td>\n",
       "    </tr>\n",
       "    <tr>\n",
       "      <th>1</th>\n",
       "      <td>02:00</td>\n",
       "      <td>2024-03-15</td>\n",
       "      <td>551.70</td>\n",
       "    </tr>\n",
       "    <tr>\n",
       "      <th>2</th>\n",
       "      <td>03:00</td>\n",
       "      <td>2024-03-15</td>\n",
       "      <td>551.70</td>\n",
       "    </tr>\n",
       "    <tr>\n",
       "      <th>3</th>\n",
       "      <td>04:00</td>\n",
       "      <td>2024-03-15</td>\n",
       "      <td>497.36</td>\n",
       "    </tr>\n",
       "    <tr>\n",
       "      <th>4</th>\n",
       "      <td>05:00</td>\n",
       "      <td>2024-03-15</td>\n",
       "      <td>551.70</td>\n",
       "    </tr>\n",
       "  </tbody>\n",
       "</table>\n",
       "</div>"
      ],
      "text/plain": [
       "    hora       fecha  precio\n",
       "0  01:00  2024-03-15  551.70\n",
       "1  02:00  2024-03-15  551.70\n",
       "2  03:00  2024-03-15  551.70\n",
       "3  04:00  2024-03-15  497.36\n",
       "4  05:00  2024-03-15  551.70"
      ]
     },
     "execution_count": 8,
     "metadata": {},
     "output_type": "execute_result"
    }
   ],
   "source": [
    "df.head()"
   ]
  },
  {
   "cell_type": "markdown",
   "id": "e334f071-5d8e-484c-81f2-6224787b5e28",
   "metadata": {},
   "source": [
    "# **3.Tratamiento de Datos Faltantes (30 puntos)**"
   ]
  },
  {
   "cell_type": "markdown",
   "id": "73db2e2d-a267-4aae-ba73-78ecd6a01904",
   "metadata": {},
   "source": [
    "###  Se deben identificar y gestionar las horas faltantes en el conjunto de datos. Los valores faltantes deben llenarse: "
   ]
  },
  {
   "cell_type": "code",
   "execution_count": 9,
   "id": "436d3b37-def2-4547-957e-5e7896a9ab7f",
   "metadata": {},
   "outputs": [
    {
     "data": {
      "text/plain": [
       "hora      0\n",
       "fecha     0\n",
       "precio    4\n",
       "dtype: int64"
      ]
     },
     "execution_count": 9,
     "metadata": {},
     "output_type": "execute_result"
    }
   ],
   "source": [
    "df.isna().sum()"
   ]
  },
  {
   "cell_type": "markdown",
   "id": "485bd157-3c03-489b-9c3b-6bf4606d026a",
   "metadata": {},
   "source": [
    "* ¿Cuáles son las horas donde hacen falta valores?"
   ]
  },
  {
   "cell_type": "code",
   "execution_count": 10,
   "id": "0fb0c788-49ee-4a4b-8fe5-79f2e3489927",
   "metadata": {},
   "outputs": [
    {
     "data": {
      "text/html": [
       "<div>\n",
       "<style scoped>\n",
       "    .dataframe tbody tr th:only-of-type {\n",
       "        vertical-align: middle;\n",
       "    }\n",
       "\n",
       "    .dataframe tbody tr th {\n",
       "        vertical-align: top;\n",
       "    }\n",
       "\n",
       "    .dataframe thead th {\n",
       "        text-align: right;\n",
       "    }\n",
       "</style>\n",
       "<table border=\"1\" class=\"dataframe\">\n",
       "  <thead>\n",
       "    <tr style=\"text-align: right;\">\n",
       "      <th></th>\n",
       "      <th>hora</th>\n",
       "      <th>fecha</th>\n",
       "      <th>precio</th>\n",
       "    </tr>\n",
       "  </thead>\n",
       "  <tbody>\n",
       "    <tr>\n",
       "      <th>566</th>\n",
       "      <td>15:00</td>\n",
       "      <td>2024-04-08</td>\n",
       "      <td>NaN</td>\n",
       "    </tr>\n",
       "    <tr>\n",
       "      <th>590</th>\n",
       "      <td>15:00</td>\n",
       "      <td>2024-04-09</td>\n",
       "      <td>NaN</td>\n",
       "    </tr>\n",
       "    <tr>\n",
       "      <th>591</th>\n",
       "      <td>16:00</td>\n",
       "      <td>2024-04-09</td>\n",
       "      <td>NaN</td>\n",
       "    </tr>\n",
       "    <tr>\n",
       "      <th>592</th>\n",
       "      <td>17:00</td>\n",
       "      <td>2024-04-09</td>\n",
       "      <td>NaN</td>\n",
       "    </tr>\n",
       "  </tbody>\n",
       "</table>\n",
       "</div>"
      ],
      "text/plain": [
       "      hora       fecha  precio\n",
       "566  15:00  2024-04-08     NaN\n",
       "590  15:00  2024-04-09     NaN\n",
       "591  16:00  2024-04-09     NaN\n",
       "592  17:00  2024-04-09     NaN"
      ]
     },
     "execution_count": 10,
     "metadata": {},
     "output_type": "execute_result"
    }
   ],
   "source": [
    "df[df.precio.isna()]"
   ]
  },
  {
   "cell_type": "code",
   "execution_count": 11,
   "id": "c1dbfe11-0289-4bd6-abfe-3132c3b5d130",
   "metadata": {},
   "outputs": [
    {
     "data": {
      "text/plain": [
       "566    15:00\n",
       "590    15:00\n",
       "591    16:00\n",
       "592    17:00\n",
       "Name: hora, dtype: object"
      ]
     },
     "execution_count": 11,
     "metadata": {},
     "output_type": "execute_result"
    }
   ],
   "source": [
    "df[df.precio.isna()]['hora']"
   ]
  },
  {
   "cell_type": "markdown",
   "id": "50941dff-67f3-4b17-b16a-e434d46d2805",
   "metadata": {},
   "source": [
    "* Primero, rellenando los datos faltantes en las horas con el valor anterior más cercano disponible."
   ]
  },
  {
   "cell_type": "code",
   "execution_count": 12,
   "id": "c10bbf24-ecba-4996-af71-f2b23657599e",
   "metadata": {},
   "outputs": [
    {
     "name": "stderr",
     "output_type": "stream",
     "text": [
      "/tmp/ipykernel_186851/3281516021.py:1: FutureWarning: Series.fillna with 'method' is deprecated and will raise in a future version. Use obj.ffill() or obj.bfill() instead.\n",
      "  df[\"precio\"] = df[\"precio\"].fillna(method=\"ffill\")\n"
     ]
    }
   ],
   "source": [
    "df[\"precio\"] = df[\"precio\"].fillna(method=\"ffill\")"
   ]
  },
  {
   "cell_type": "code",
   "execution_count": 13,
   "id": "62f8a4f1-e1ae-4b71-84ef-cf7d99876b81",
   "metadata": {},
   "outputs": [
    {
     "data": {
      "text/plain": [
       "hora      0\n",
       "fecha     0\n",
       "precio    0\n",
       "dtype: int64"
      ]
     },
     "execution_count": 13,
     "metadata": {},
     "output_type": "execute_result"
    }
   ],
   "source": [
    "df.isna().sum()"
   ]
  },
  {
   "cell_type": "markdown",
   "id": "2f72f646-a533-44ff-8399-040b16437496",
   "metadata": {},
   "source": [
    "* Luego, para los días faltantes, se deben rellenar utilizando el promedio de los 3 días previos y los 3 días posteriores a la fecha faltante."
   ]
  },
  {
   "cell_type": "code",
   "execution_count": 14,
   "id": "03b60fa2-4328-43e2-99f7-3e70790e7d0e",
   "metadata": {},
   "outputs": [],
   "source": [
    "def fill_missing_with_avg(df):\n",
    "    for i in range(len(df)):\n",
    "        if pd.isna(df.loc[i, \"precio\"]):\n",
    "            current_date = df.loc[i, \"fecha\"]\n",
    "            \n",
    "            # Se toman los 3 dias previos y los 3 dias posteriores\n",
    "            prev_days = df[(df[\"fecha\"] < current_date) & (df[\"fecha\"] >= current_date - pd.Timedelta(days=3))][\"precio\"]\n",
    "            next_days = df[(df[\"fecha\"] > current_date) & (df[\"fecha\"] <= current_date + pd.Timedelta(days=3))][\"precio\"]\n",
    "\n",
    "            avg_price = pd.concat([prev_days, next_days]).mean()\n",
    "\n",
    "            if not pd.isna(avg_price):\n",
    "                df.loc[i, \"precio\"] = avg_price\n",
    "\n",
    "\n",
    "fill_missing_with_avg(df)"
   ]
  },
  {
   "cell_type": "markdown",
   "id": "2b27e438-76ec-4dc1-8423-231c0a9f255d",
   "metadata": {},
   "source": [
    "# **4 Cálculos de Promedios (10 puntos)**"
   ]
  },
  {
   "cell_type": "markdown",
   "id": "6657dcac-4a93-4e26-b08b-2f52767006ef",
   "metadata": {},
   "source": [
    "* Se debe calcular el promedio diario de precios."
   ]
  },
  {
   "cell_type": "code",
   "execution_count": 15,
   "id": "c2b66f20-cd5c-4ce7-af8f-76fd9d0a5c38",
   "metadata": {},
   "outputs": [],
   "source": [
    "daily_avg = df.groupby(\"fecha\")[\"precio\"].mean().reset_index()"
   ]
  },
  {
   "cell_type": "code",
   "execution_count": 16,
   "id": "de4fe4f9-fc7b-42f6-8a95-ab5b1343f656",
   "metadata": {},
   "outputs": [
    {
     "data": {
      "text/html": [
       "<div>\n",
       "<style scoped>\n",
       "    .dataframe tbody tr th:only-of-type {\n",
       "        vertical-align: middle;\n",
       "    }\n",
       "\n",
       "    .dataframe tbody tr th {\n",
       "        vertical-align: top;\n",
       "    }\n",
       "\n",
       "    .dataframe thead th {\n",
       "        text-align: right;\n",
       "    }\n",
       "</style>\n",
       "<table border=\"1\" class=\"dataframe\">\n",
       "  <thead>\n",
       "    <tr style=\"text-align: right;\">\n",
       "      <th></th>\n",
       "      <th>fecha</th>\n",
       "      <th>precio</th>\n",
       "    </tr>\n",
       "  </thead>\n",
       "  <tbody>\n",
       "    <tr>\n",
       "      <th>0</th>\n",
       "      <td>2024-03-15</td>\n",
       "      <td>557.669167</td>\n",
       "    </tr>\n",
       "    <tr>\n",
       "      <th>1</th>\n",
       "      <td>2024-03-16</td>\n",
       "      <td>574.449167</td>\n",
       "    </tr>\n",
       "    <tr>\n",
       "      <th>2</th>\n",
       "      <td>2024-03-17</td>\n",
       "      <td>581.365000</td>\n",
       "    </tr>\n",
       "    <tr>\n",
       "      <th>3</th>\n",
       "      <td>2024-03-19</td>\n",
       "      <td>617.401667</td>\n",
       "    </tr>\n",
       "    <tr>\n",
       "      <th>4</th>\n",
       "      <td>2024-03-20</td>\n",
       "      <td>625.661667</td>\n",
       "    </tr>\n",
       "    <tr>\n",
       "      <th>5</th>\n",
       "      <td>2024-03-21</td>\n",
       "      <td>654.168333</td>\n",
       "    </tr>\n",
       "    <tr>\n",
       "      <th>6</th>\n",
       "      <td>2024-03-22</td>\n",
       "      <td>707.120417</td>\n",
       "    </tr>\n",
       "    <tr>\n",
       "      <th>7</th>\n",
       "      <td>2024-03-23</td>\n",
       "      <td>715.151250</td>\n",
       "    </tr>\n",
       "    <tr>\n",
       "      <th>8</th>\n",
       "      <td>2024-03-24</td>\n",
       "      <td>651.767500</td>\n",
       "    </tr>\n",
       "    <tr>\n",
       "      <th>9</th>\n",
       "      <td>2024-03-25</td>\n",
       "      <td>735.623333</td>\n",
       "    </tr>\n",
       "    <tr>\n",
       "      <th>10</th>\n",
       "      <td>2024-03-26</td>\n",
       "      <td>836.338750</td>\n",
       "    </tr>\n",
       "    <tr>\n",
       "      <th>11</th>\n",
       "      <td>2024-03-27</td>\n",
       "      <td>927.815000</td>\n",
       "    </tr>\n",
       "    <tr>\n",
       "      <th>12</th>\n",
       "      <td>2024-03-28</td>\n",
       "      <td>851.262083</td>\n",
       "    </tr>\n",
       "    <tr>\n",
       "      <th>13</th>\n",
       "      <td>2024-03-29</td>\n",
       "      <td>812.670833</td>\n",
       "    </tr>\n",
       "    <tr>\n",
       "      <th>14</th>\n",
       "      <td>2024-03-30</td>\n",
       "      <td>754.782083</td>\n",
       "    </tr>\n",
       "    <tr>\n",
       "      <th>15</th>\n",
       "      <td>2024-03-31</td>\n",
       "      <td>711.511667</td>\n",
       "    </tr>\n",
       "    <tr>\n",
       "      <th>16</th>\n",
       "      <td>2024-04-01</td>\n",
       "      <td>849.403333</td>\n",
       "    </tr>\n",
       "    <tr>\n",
       "      <th>17</th>\n",
       "      <td>2024-04-02</td>\n",
       "      <td>1029.181250</td>\n",
       "    </tr>\n",
       "    <tr>\n",
       "      <th>18</th>\n",
       "      <td>2024-04-03</td>\n",
       "      <td>1232.150833</td>\n",
       "    </tr>\n",
       "    <tr>\n",
       "      <th>19</th>\n",
       "      <td>2024-04-04</td>\n",
       "      <td>1079.827083</td>\n",
       "    </tr>\n",
       "    <tr>\n",
       "      <th>20</th>\n",
       "      <td>2024-04-05</td>\n",
       "      <td>972.507083</td>\n",
       "    </tr>\n",
       "    <tr>\n",
       "      <th>21</th>\n",
       "      <td>2024-04-06</td>\n",
       "      <td>653.472083</td>\n",
       "    </tr>\n",
       "    <tr>\n",
       "      <th>22</th>\n",
       "      <td>2024-04-07</td>\n",
       "      <td>630.482083</td>\n",
       "    </tr>\n",
       "    <tr>\n",
       "      <th>23</th>\n",
       "      <td>2024-04-08</td>\n",
       "      <td>916.043333</td>\n",
       "    </tr>\n",
       "    <tr>\n",
       "      <th>24</th>\n",
       "      <td>2024-04-09</td>\n",
       "      <td>988.141667</td>\n",
       "    </tr>\n",
       "    <tr>\n",
       "      <th>25</th>\n",
       "      <td>2024-04-10</td>\n",
       "      <td>957.763750</td>\n",
       "    </tr>\n",
       "    <tr>\n",
       "      <th>26</th>\n",
       "      <td>2024-04-11</td>\n",
       "      <td>1028.540000</td>\n",
       "    </tr>\n",
       "    <tr>\n",
       "      <th>27</th>\n",
       "      <td>2024-04-12</td>\n",
       "      <td>1033.936667</td>\n",
       "    </tr>\n",
       "    <tr>\n",
       "      <th>28</th>\n",
       "      <td>2024-04-13</td>\n",
       "      <td>1017.219583</td>\n",
       "    </tr>\n",
       "    <tr>\n",
       "      <th>29</th>\n",
       "      <td>2024-04-14</td>\n",
       "      <td>1034.482083</td>\n",
       "    </tr>\n",
       "  </tbody>\n",
       "</table>\n",
       "</div>"
      ],
      "text/plain": [
       "         fecha       precio\n",
       "0   2024-03-15   557.669167\n",
       "1   2024-03-16   574.449167\n",
       "2   2024-03-17   581.365000\n",
       "3   2024-03-19   617.401667\n",
       "4   2024-03-20   625.661667\n",
       "5   2024-03-21   654.168333\n",
       "6   2024-03-22   707.120417\n",
       "7   2024-03-23   715.151250\n",
       "8   2024-03-24   651.767500\n",
       "9   2024-03-25   735.623333\n",
       "10  2024-03-26   836.338750\n",
       "11  2024-03-27   927.815000\n",
       "12  2024-03-28   851.262083\n",
       "13  2024-03-29   812.670833\n",
       "14  2024-03-30   754.782083\n",
       "15  2024-03-31   711.511667\n",
       "16  2024-04-01   849.403333\n",
       "17  2024-04-02  1029.181250\n",
       "18  2024-04-03  1232.150833\n",
       "19  2024-04-04  1079.827083\n",
       "20  2024-04-05   972.507083\n",
       "21  2024-04-06   653.472083\n",
       "22  2024-04-07   630.482083\n",
       "23  2024-04-08   916.043333\n",
       "24  2024-04-09   988.141667\n",
       "25  2024-04-10   957.763750\n",
       "26  2024-04-11  1028.540000\n",
       "27  2024-04-12  1033.936667\n",
       "28  2024-04-13  1017.219583\n",
       "29  2024-04-14  1034.482083"
      ]
     },
     "execution_count": 16,
     "metadata": {},
     "output_type": "execute_result"
    }
   ],
   "source": [
    "daily_avg"
   ]
  },
  {
   "cell_type": "markdown",
   "id": "90af00e4-d9a9-49bc-b183-7a2e4d5d11ae",
   "metadata": {},
   "source": [
    "* Además, calcular un promedio móvil de 7 días de los precios diarios."
   ]
  },
  {
   "cell_type": "code",
   "execution_count": 17,
   "id": "d4679854-0a2c-4b04-a9fd-60549ddddc45",
   "metadata": {},
   "outputs": [],
   "source": [
    "last_7_days_avg = daily_avg[\"precio\"].rolling(window=7, min_periods=1).mean()"
   ]
  },
  {
   "cell_type": "code",
   "execution_count": 18,
   "id": "beda9347-2ea1-4cf1-9a00-607241e8c0ac",
   "metadata": {},
   "outputs": [
    {
     "data": {
      "text/plain": [
       "0     557.669167\n",
       "1     566.059167\n",
       "2     571.161111\n",
       "3     582.721250\n",
       "4     591.309333\n",
       "5     601.785833\n",
       "6     616.833631\n",
       "7     639.331071\n",
       "8     650.376548\n",
       "9     672.413452\n",
       "10    703.690179\n",
       "11    746.854940\n",
       "12    775.011190\n",
       "13    790.089821\n",
       "14    795.751369\n",
       "15    804.286250\n",
       "16    820.540536\n",
       "17    848.089464\n",
       "18    891.566012\n",
       "19    924.218155\n",
       "20    947.051905\n",
       "21    932.579048\n",
       "22    921.003393\n",
       "23    930.523393\n",
       "24    924.660595\n",
       "25    885.462440\n",
       "26    878.135714\n",
       "27    886.911369\n",
       "28    938.875298\n",
       "29    996.589583\n",
       "Name: precio, dtype: float64"
      ]
     },
     "execution_count": 18,
     "metadata": {},
     "output_type": "execute_result"
    }
   ],
   "source": [
    "last_7_days_avg"
   ]
  },
  {
   "cell_type": "markdown",
   "id": "ebad6383-2297-4341-8bcf-b4edc8bd07fc",
   "metadata": {},
   "source": [
    "# **5 Visualización (15 puntos)**"
   ]
  },
  {
   "cell_type": "markdown",
   "id": "2e0321ba-6e5a-4a27-b15d-34abf8ff53b5",
   "metadata": {},
   "source": [
    "\n",
    "* Se debe generar una gráfica que compare los promedios diarios con el promedio móvil de 7 días.\n",
    "* La gráfica debe ser clara, con leyenda y título apropiados.\n",
    "* Almacenar la gráfica como image.png\n"
   ]
  },
  {
   "cell_type": "code",
   "execution_count": 19,
   "id": "0375870d-1732-4011-9276-669aef9ce968",
   "metadata": {},
   "outputs": [
    {
     "data": {
      "image/png": "[encoded data removed]",
      "text/plain": [
       "<Figure size 1000x500 with 1 Axes>"
      ]
     },
     "metadata": {},
     "output_type": "display_data"
    }
   ],
   "source": [
    "plt.figure(figsize=(10, 5))\n",
    "plt.plot(daily_avg[\"fecha\"], daily_avg[\"precio\"], marker=\"o\", linestyle=\"-\", label=\"Precio Promedio Diario\", color=\"blue\")\n",
    "plt.plot(daily_avg[\"fecha\"], last_7_days_avg, linestyle=\"--\", label=\"7-Dias Promedio Movil\", color=\"red\")\n",
    "\n",
    "# Formatting the plot\n",
    "plt.xlabel(\"Fecha\")\n",
    "plt.ylabel(\"Precio\")\n",
    "plt.title(\"Serie de tiempo Precio de la Energia Promedio vs  Promedio Movil 7-Dias\")\n",
    "plt.legend()\n",
    "plt.xticks(rotation=45)\n",
    "plt.grid(True)\n",
    "\n",
    "plt.savefig(\"image.png\", dpi=300, bbox_inches=\"tight\")\n",
    "\n",
    "\n",
    "# Show the plot\n",
    "plt.show()\n"
   ]
  },
  {
   "cell_type": "markdown",
   "id": "dea1d713-7406-4d64-857c-645ee3ccaa4c",
   "metadata": {},
   "source": [
    "* ¿Cuál es el comportamiento del precio para el periodo?\n"
   ]
  },
  {
   "cell_type": "code",
   "execution_count": 20,
   "id": "32f95f2d-bf3a-4a88-8a9b-5ec6814aacc1",
   "metadata": {},
   "outputs": [
    {
     "data": {
      "text/html": [
       "<div>\n",
       "<style scoped>\n",
       "    .dataframe tbody tr th:only-of-type {\n",
       "        vertical-align: middle;\n",
       "    }\n",
       "\n",
       "    .dataframe tbody tr th {\n",
       "        vertical-align: top;\n",
       "    }\n",
       "\n",
       "    .dataframe thead th {\n",
       "        text-align: right;\n",
       "    }\n",
       "</style>\n",
       "<table border=\"1\" class=\"dataframe\">\n",
       "  <thead>\n",
       "    <tr style=\"text-align: right;\">\n",
       "      <th></th>\n",
       "      <th>precio</th>\n",
       "    </tr>\n",
       "  </thead>\n",
       "  <tbody>\n",
       "    <tr>\n",
       "      <th>count</th>\n",
       "      <td>30.000000</td>\n",
       "    </tr>\n",
       "    <tr>\n",
       "      <th>mean</th>\n",
       "      <td>824.596958</td>\n",
       "    </tr>\n",
       "    <tr>\n",
       "      <th>std</th>\n",
       "      <td>183.770690</td>\n",
       "    </tr>\n",
       "    <tr>\n",
       "      <th>min</th>\n",
       "      <td>557.669167</td>\n",
       "    </tr>\n",
       "    <tr>\n",
       "      <th>25%</th>\n",
       "      <td>653.646146</td>\n",
       "    </tr>\n",
       "    <tr>\n",
       "      <th>50%</th>\n",
       "      <td>824.504792</td>\n",
       "    </tr>\n",
       "    <tr>\n",
       "      <th>75%</th>\n",
       "      <td>984.233021</td>\n",
       "    </tr>\n",
       "    <tr>\n",
       "      <th>max</th>\n",
       "      <td>1232.150833</td>\n",
       "    </tr>\n",
       "  </tbody>\n",
       "</table>\n",
       "</div>"
      ],
      "text/plain": [
       "            precio\n",
       "count    30.000000\n",
       "mean    824.596958\n",
       "std     183.770690\n",
       "min     557.669167\n",
       "25%     653.646146\n",
       "50%     824.504792\n",
       "75%     984.233021\n",
       "max    1232.150833"
      ]
     },
     "execution_count": 20,
     "metadata": {},
     "output_type": "execute_result"
    }
   ],
   "source": [
    "daily_avg.describe()"
   ]
  },
  {
   "cell_type": "code",
   "execution_count": 21,
   "id": "d0f9ccec-a9fe-4d03-a4c8-53a3c0db39da",
   "metadata": {},
   "outputs": [
    {
     "data": {
      "text/html": [
       "<div>\n",
       "<style scoped>\n",
       "    .dataframe tbody tr th:only-of-type {\n",
       "        vertical-align: middle;\n",
       "    }\n",
       "\n",
       "    .dataframe tbody tr th {\n",
       "        vertical-align: top;\n",
       "    }\n",
       "\n",
       "    .dataframe thead th {\n",
       "        text-align: right;\n",
       "    }\n",
       "</style>\n",
       "<table border=\"1\" class=\"dataframe\">\n",
       "  <thead>\n",
       "    <tr style=\"text-align: right;\">\n",
       "      <th></th>\n",
       "      <th>fecha</th>\n",
       "      <th>precio</th>\n",
       "    </tr>\n",
       "  </thead>\n",
       "  <tbody>\n",
       "    <tr>\n",
       "      <th>0</th>\n",
       "      <td>2024-03-15</td>\n",
       "      <td>557.669167</td>\n",
       "    </tr>\n",
       "  </tbody>\n",
       "</table>\n",
       "</div>"
      ],
      "text/plain": [
       "        fecha      precio\n",
       "0  2024-03-15  557.669167"
      ]
     },
     "execution_count": 21,
     "metadata": {},
     "output_type": "execute_result"
    }
   ],
   "source": [
    "daily_avg[daily_avg.precio < 558]"
   ]
  },
  {
   "cell_type": "code",
   "execution_count": 22,
   "id": "28781998-199e-4966-bc78-2a81ef53482e",
   "metadata": {},
   "outputs": [
    {
     "data": {
      "text/html": [
       "<div>\n",
       "<style scoped>\n",
       "    .dataframe tbody tr th:only-of-type {\n",
       "        vertical-align: middle;\n",
       "    }\n",
       "\n",
       "    .dataframe tbody tr th {\n",
       "        vertical-align: top;\n",
       "    }\n",
       "\n",
       "    .dataframe thead th {\n",
       "        text-align: right;\n",
       "    }\n",
       "</style>\n",
       "<table border=\"1\" class=\"dataframe\">\n",
       "  <thead>\n",
       "    <tr style=\"text-align: right;\">\n",
       "      <th></th>\n",
       "      <th>fecha</th>\n",
       "      <th>precio</th>\n",
       "    </tr>\n",
       "  </thead>\n",
       "  <tbody>\n",
       "    <tr>\n",
       "      <th>18</th>\n",
       "      <td>2024-04-03</td>\n",
       "      <td>1232.150833</td>\n",
       "    </tr>\n",
       "  </tbody>\n",
       "</table>\n",
       "</div>"
      ],
      "text/plain": [
       "         fecha       precio\n",
       "18  2024-04-03  1232.150833"
      ]
     },
     "execution_count": 22,
     "metadata": {},
     "output_type": "execute_result"
    }
   ],
   "source": [
    "daily_avg[daily_avg.precio >= 1232]"
   ]
  },
  {
   "cell_type": "markdown",
   "id": "a03f1925-52e1-49e7-b951-b1a756b6059d",
   "metadata": {},
   "source": [
    "El comportamiento del precio de la energía para el periodo comprendido entre las fechas 2024-03-15 y 2024-04-14 muestra una tendencia alcista, alcanzando un pico monetario de 1232.150833 el 2024-04-03 y un mínimo histórico de 557.669167 el 2024-03-15."
   ]
  },
  {
   "cell_type": "markdown",
   "id": "30111094-06e3-4b20-b7c3-a26b49d0933a",
   "metadata": {},
   "source": [
    "# **Almacenamiento de Resultados (15 puntos)**"
   ]
  },
  {
   "cell_type": "markdown",
   "id": "d561e198-045b-4bd7-94b3-6cd940771226",
   "metadata": {},
   "source": [
    "* Almacenar los resultados diarios (promedio diario y promedio móvil de 7 días) en una base de datos SQLite.\n",
    "* El esquema de la tabla debe incluir las columnas fecha, precio_promedio, precio_7d.\n"
   ]
  },
  {
   "cell_type": "code",
   "execution_count": 23,
   "id": "7d88f789-a315-4700-8fc4-487d3444a327",
   "metadata": {},
   "outputs": [],
   "source": [
    "new_df = pd.DataFrame()\n",
    "new_df['fecha'] = daily_avg.fecha\n",
    "new_df['precio_promedio'] = daily_avg.precio\n",
    "new_df['precio_7d'] = last_7_days_avg"
   ]
  },
  {
   "cell_type": "code",
   "execution_count": 24,
   "id": "1b06fcbf-b4d3-41ec-aea7-fafb7334ed97",
   "metadata": {},
   "outputs": [
    {
     "data": {
      "text/html": [
       "<div>\n",
       "<style scoped>\n",
       "    .dataframe tbody tr th:only-of-type {\n",
       "        vertical-align: middle;\n",
       "    }\n",
       "\n",
       "    .dataframe tbody tr th {\n",
       "        vertical-align: top;\n",
       "    }\n",
       "\n",
       "    .dataframe thead th {\n",
       "        text-align: right;\n",
       "    }\n",
       "</style>\n",
       "<table border=\"1\" class=\"dataframe\">\n",
       "  <thead>\n",
       "    <tr style=\"text-align: right;\">\n",
       "      <th></th>\n",
       "      <th>fecha</th>\n",
       "      <th>precio_promedio</th>\n",
       "      <th>precio_7d</th>\n",
       "    </tr>\n",
       "  </thead>\n",
       "  <tbody>\n",
       "    <tr>\n",
       "      <th>0</th>\n",
       "      <td>2024-03-15</td>\n",
       "      <td>557.669167</td>\n",
       "      <td>557.669167</td>\n",
       "    </tr>\n",
       "    <tr>\n",
       "      <th>1</th>\n",
       "      <td>2024-03-16</td>\n",
       "      <td>574.449167</td>\n",
       "      <td>566.059167</td>\n",
       "    </tr>\n",
       "    <tr>\n",
       "      <th>2</th>\n",
       "      <td>2024-03-17</td>\n",
       "      <td>581.365000</td>\n",
       "      <td>571.161111</td>\n",
       "    </tr>\n",
       "    <tr>\n",
       "      <th>3</th>\n",
       "      <td>2024-03-19</td>\n",
       "      <td>617.401667</td>\n",
       "      <td>582.721250</td>\n",
       "    </tr>\n",
       "    <tr>\n",
       "      <th>4</th>\n",
       "      <td>2024-03-20</td>\n",
       "      <td>625.661667</td>\n",
       "      <td>591.309333</td>\n",
       "    </tr>\n",
       "  </tbody>\n",
       "</table>\n",
       "</div>"
      ],
      "text/plain": [
       "        fecha  precio_promedio   precio_7d\n",
       "0  2024-03-15       557.669167  557.669167\n",
       "1  2024-03-16       574.449167  566.059167\n",
       "2  2024-03-17       581.365000  571.161111\n",
       "3  2024-03-19       617.401667  582.721250\n",
       "4  2024-03-20       625.661667  591.309333"
      ]
     },
     "execution_count": 24,
     "metadata": {},
     "output_type": "execute_result"
    }
   ],
   "source": [
    "new_df.head()"
   ]
  },
  {
   "cell_type": "code",
   "execution_count": 25,
   "id": "646b322f-667e-4c56-b624-bdc21f80c304",
   "metadata": {},
   "outputs": [],
   "source": [
    "conn = sqlite3.connect('precios.db')"
   ]
  },
  {
   "cell_type": "code",
   "execution_count": 26,
   "id": "5ff64313-236f-4ddb-868e-b48101049442",
   "metadata": {},
   "outputs": [
    {
     "data": {
      "text/plain": [
       "30"
      ]
     },
     "execution_count": 26,
     "metadata": {},
     "output_type": "execute_result"
    }
   ],
   "source": [
    "new_df.to_sql('PlusenergyTable', conn, if_exists='replace', index=False)"
   ]
  }
 ],
 "metadata": {
  "kernelspec": {
   "display_name": "Python 3 (ipykernel)",
   "language": "python",
   "name": "python3"
  },
  "language_info": {
   "codemirror_mode": {
    "name": "ipython",
    "version": 3
   },
   "file_extension": ".py",
   "mimetype": "text/x-python",
   "name": "python",
   "nbconvert_exporter": "python",
   "pygments_lexer": "ipython3",
   "version": "3.12.3"
  }
 },
 "nbformat": 4,
 "nbformat_minor": 5
}
